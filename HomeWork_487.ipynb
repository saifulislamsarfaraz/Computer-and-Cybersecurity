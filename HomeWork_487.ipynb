{
  "nbformat": 4,
  "nbformat_minor": 0,
  "metadata": {
    "colab": {
      "provenance": [],
      "authorship_tag": "ABX9TyOfHLA5h5ZqnMfV/Fm6U0Sd",
      "include_colab_link": true
    },
    "kernelspec": {
      "name": "python3",
      "display_name": "Python 3"
    },
    "language_info": {
      "name": "python"
    }
  },
  "cells": [
    {
      "cell_type": "markdown",
      "metadata": {
        "id": "view-in-github",
        "colab_type": "text"
      },
      "source": [
        "<a href=\"https://colab.research.google.com/github/saifulislamsarfaraz/Computer-and-Cybersecurity/blob/main/HomeWork_487.ipynb\" target=\"_parent\"><img src=\"https://colab.research.google.com/assets/colab-badge.svg\" alt=\"Open In Colab\"/></a>"
      ]
    },
    {
      "cell_type": "markdown",
      "source": [
        "#Week 1 Homework 1"
      ],
      "metadata": {
        "id": "h28lanTDD0eB"
      }
    },
    {
      "cell_type": "code",
      "execution_count": null,
      "metadata": {
        "id": "EUe7GjQY5VfT"
      },
      "outputs": [],
      "source": [
        "def caesar_cipher_encryption(plain_text, k):\n",
        "    ciper_text = \"\"\n",
        "    for char in plain_text:\n",
        "        if char.isalpha():\n",
        "            current_pos = ord(char.upper()) - ord('A')\n",
        "            #print(current_pos)\n",
        "            new_pos = (current_pos + k) % 26\n",
        "            ciper_text += chr(new_pos + ord('A'))\n",
        "        else:\n",
        "            ciper_text += char\n",
        "    return ciper_text\n"
      ]
    },
    {
      "cell_type": "code",
      "source": [
        "def caesar_cipher_decryption(cipher_text):\n",
        "    for shift in range(26):\n",
        "        plain_text = \"\"\n",
        "        for char in cipher_text:\n",
        "            if char.isalpha():\n",
        "                current_pos = ord(char.upper()) - ord('A')\n",
        "                new_pos = (current_pos - shift) % 26\n",
        "                plain_text += chr(new_pos + ord('A'))\n",
        "            else:\n",
        "                plain_text += char\n",
        "        print(\"Shift \", shift, plain_text)"
      ],
      "metadata": {
        "id": "uhFIZMzt8Ftn"
      },
      "execution_count": null,
      "outputs": []
    },
    {
      "cell_type": "code",
      "source": [
        "plain_text = \"HELLO WORLD\"\n",
        "shift = 3\n",
        "encrypted_text = caesar_cipher_encryption(plain_text,shift)\n",
        "print(\"cipher text :\" ,encrypted_text)  \n",
        "encrypted_text = caesar_cipher_decryption(encrypted_text)\n",
        "print(encrypted_text)  # \"HellO WORLD\"\n"
      ],
      "metadata": {
        "colab": {
          "base_uri": "https://localhost:8080/"
        },
        "id": "m_zc0Mel6OkU",
        "outputId": "e820a730-8a04-490e-e94f-4250f43011d3"
      },
      "execution_count": null,
      "outputs": [
        {
          "output_type": "stream",
          "name": "stdout",
          "text": [
            "cipher text : KHOOR ZRUOG\n",
            "Shift  0 KHOOR ZRUOG\n",
            "Shift  1 JGNNQ YQTNF\n",
            "Shift  2 IFMMP XPSME\n",
            "Shift  3 HELLO WORLD\n",
            "Shift  4 GDKKN VNQKC\n",
            "Shift  5 FCJJM UMPJB\n",
            "Shift  6 EBIIL TLOIA\n",
            "Shift  7 DAHHK SKNHZ\n",
            "Shift  8 CZGGJ RJMGY\n",
            "Shift  9 BYFFI QILFX\n",
            "Shift  10 AXEEH PHKEW\n",
            "Shift  11 ZWDDG OGJDV\n",
            "Shift  12 YVCCF NFICU\n",
            "Shift  13 XUBBE MEHBT\n",
            "Shift  14 WTAAD LDGAS\n",
            "Shift  15 VSZZC KCFZR\n",
            "Shift  16 URYYB JBEYQ\n",
            "Shift  17 TQXXA IADXP\n",
            "Shift  18 SPWWZ HZCWO\n",
            "Shift  19 ROVVY GYBVN\n",
            "Shift  20 QNUUX FXAUM\n",
            "Shift  21 PMTTW EWZTL\n",
            "Shift  22 OLSSV DVYSK\n",
            "Shift  23 NKRRU CUXRJ\n",
            "Shift  24 MJQQT BTWQI\n",
            "Shift  25 LIPPS ASVPH\n",
            "None\n"
          ]
        }
      ]
    },
    {
      "cell_type": "markdown",
      "source": [
        "# Week 1 Homework 2"
      ],
      "metadata": {
        "id": "_P-zpnQKEa_c"
      }
    },
    {
      "cell_type": "code",
      "source": [],
      "metadata": {
        "id": "E4luhjM5ENax"
      },
      "execution_count": null,
      "outputs": []
    }
  ]
}